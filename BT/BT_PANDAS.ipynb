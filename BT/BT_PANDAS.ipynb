{
 "cells": [
  {
   "cell_type": "code",
   "execution_count": 5,
   "id": "6fe082e3-1749-445d-8418-3644fca43d12",
   "metadata": {},
   "outputs": [],
   "source": [
    "import numpy as np"
   ]
  },
  {
   "cell_type": "code",
   "execution_count": null,
   "id": "08eb5373-66f4-496d-ae2a-3c7a3d6997d0",
   "metadata": {},
   "outputs": [],
   "source": [
    "# Create a 1d array of numbers from 0 to 9"
   ]
  },
  {
   "cell_type": "code",
   "execution_count": 39,
   "id": "d258ba22-9bea-4350-ac4a-f8f9a4a99236",
   "metadata": {},
   "outputs": [
    {
     "name": "stdout",
     "output_type": "stream",
     "text": [
      "[0 1 2 3 4 5 6 7 8 9]\n"
     ]
    }
   ],
   "source": [
    "n = np.arange(10)\n",
    "print(n)"
   ]
  },
  {
   "cell_type": "code",
   "execution_count": null,
   "id": "7d4e6584-8d0e-4d85-a6d8-81049a999533",
   "metadata": {},
   "outputs": [],
   "source": [
    "'''\n",
    "Extract all odd numbers from arr\n",
    "Replace all odd numbers in arr with -1\n",
    "'''"
   ]
  },
  {
   "cell_type": "code",
   "execution_count": 41,
   "id": "7acd4755-816d-4122-a886-9f9da3287cc2",
   "metadata": {},
   "outputs": [
    {
     "data": {
      "text/plain": [
       "array([1, 3, 5, 7, 9])"
      ]
     },
     "execution_count": 41,
     "metadata": {},
     "output_type": "execute_result"
    }
   ],
   "source": [
    "n[n % 2 != 0]"
   ]
  },
  {
   "cell_type": "code",
   "execution_count": 43,
   "id": "6f5b4783-f853-42b3-9608-be7f12b87e3f",
   "metadata": {},
   "outputs": [
    {
     "data": {
      "text/plain": [
       "array([ 0, -1,  2, -1,  4, -1,  6, -1,  8, -1])"
      ]
     },
     "execution_count": 43,
     "metadata": {},
     "output_type": "execute_result"
    }
   ],
   "source": [
    "n[n % 2 != 0]  = -1\n",
    "n"
   ]
  },
  {
   "cell_type": "code",
   "execution_count": null,
   "id": "f2d3f8b0-9cc4-49a2-baca-88b34033995f",
   "metadata": {},
   "outputs": [],
   "source": [
    "'''\n",
    "Convert a 1d arr to a 2d arr with 2 rows\n",
    "'''"
   ]
  },
  {
   "cell_type": "code",
   "execution_count": 45,
   "id": "7dd6c07c-ddae-46de-807a-050bdedb978a",
   "metadata": {},
   "outputs": [
    {
     "data": {
      "text/plain": [
       "array([[ 0, -1,  2, -1,  4],\n",
       "       [-1,  6, -1,  8, -1]])"
      ]
     },
     "execution_count": 45,
     "metadata": {},
     "output_type": "execute_result"
    }
   ],
   "source": [
    "n.reshape ((2,5))"
   ]
  },
  {
   "cell_type": "code",
   "execution_count": null,
   "id": "70217171-6a31-4880-9f34-cabb4960573c",
   "metadata": {},
   "outputs": [],
   "source": [
    "'''\n",
    "- Get the common items between a and b using intersect1d\n",
    "'''"
   ]
  },
  {
   "cell_type": "code",
   "execution_count": 82,
   "id": "eb01c437-9aa5-4272-919e-9e4a0465051a",
   "metadata": {},
   "outputs": [
    {
     "name": "stdout",
     "output_type": "stream",
     "text": [
      "Số 1 xuất hiện 1 lần trong a và 1 lần trong b.\n",
      "Số 4 xuất hiện 1 lần trong a và 1 lần trong b.\n",
      "Số 5 xuất hiện 1 lần trong a và 2 lần trong b.\n",
      "Số 9 xuất hiện 1 lần trong a và 1 lần trong b.\n",
      "------------------------------------------------------------------------------\n",
      "Số 1 xuất hiện 1 lần trong a và 1 lần trong b.\n",
      "Số 4 xuất hiện 1 lần trong a và 1 lần trong b.\n",
      "Số 5 xuất hiện 1 lần trong a và 2 lần trong b.\n",
      "Số 9 xuất hiện 1 lần trong a và 1 lần trong b.\n"
     ]
    }
   ],
   "source": [
    "a = np.array([1,2,3,4,5,6,7,8,9])\n",
    "b = np.array([1,4,5,5,9])\n",
    "c = np.intersect1d(a,b)\n",
    "#C1\n",
    "for i in c:\n",
    "    count_a = 0\n",
    "    count_b = 0\n",
    "    for j in a:\n",
    "        if j == i:\n",
    "            count_a += 1\n",
    "    for j in b:\n",
    "        if j == i:\n",
    "            count_b +=1\n",
    "    print(f\"Số {i} xuất hiện {count_a} lần trong a và {count_b} lần trong b.\")  \n",
    "print('------------------------------------------------------------------------------')\n",
    "#C2\n",
    "for i in c:\n",
    "    count_a = np.count_nonzero(a == i)\n",
    "    count_b = np.count_nonzero(b == i)\n",
    "    print(f\"Số {i} xuất hiện {count_a} lần trong a và {count_b} lần trong b.\")"
   ]
  },
  {
   "cell_type": "code",
   "execution_count": null,
   "id": "fcffc5f0-eb65-4ab8-b496-1165ce330e3e",
   "metadata": {},
   "outputs": [],
   "source": [
    "'''\n",
    "- From arr a, remove all items present in arr b using setdiff1d\n",
    "'''"
   ]
  },
  {
   "cell_type": "code",
   "execution_count": 86,
   "id": "260b80c4-2c71-4be2-ab32-ba272cecc9bf",
   "metadata": {},
   "outputs": [
    {
     "data": {
      "text/plain": [
       "array([2, 3, 6, 7, 8])"
      ]
     },
     "execution_count": 86,
     "metadata": {},
     "output_type": "execute_result"
    }
   ],
   "source": [
    "a = np.array([1,2,3,4,5,6,7,8,9])\n",
    "b = np.array([1,4,5,5,9])\n",
    "c = np.setdiff1d(a,b)\n",
    "c"
   ]
  },
  {
   "cell_type": "code",
   "execution_count": null,
   "id": "ba3313d1-be33-4726-ba79-b7b130e3529c",
   "metadata": {},
   "outputs": [],
   "source": [
    "'''\n",
    "- Get all items between 5 and 10 from a\n",
    "'''"
   ]
  },
  {
   "cell_type": "code",
   "execution_count": 100,
   "id": "fe885df8-cc7a-435c-b460-e06d5101e71a",
   "metadata": {},
   "outputs": [
    {
     "data": {
      "text/plain": [
       "array([5, 6, 7, 8, 9])"
      ]
     },
     "execution_count": 100,
     "metadata": {},
     "output_type": "execute_result"
    }
   ],
   "source": [
    "a = np.array([1,2,3,4,5,6,7,8,9])\n",
    "b = a[(a >= 5) & (a <= 10)]\n",
    "b"
   ]
  },
  {
   "cell_type": "code",
   "execution_count": null,
   "id": "8878aac2-cffd-4a81-b724-610a444ab246",
   "metadata": {},
   "outputs": [],
   "source": [
    "'''\n",
    "Swap columns 1 and 2 in the array and rows\n",
    "'''"
   ]
  },
  {
   "cell_type": "code",
   "execution_count": 140,
   "id": "c91691e7-a45c-4c84-b053-3abc61a8ae80",
   "metadata": {},
   "outputs": [
    {
     "name": "stdout",
     "output_type": "stream",
     "text": [
      "[[2 1 0]\n",
      " [5 4 3]\n",
      " [8 7 6]]\n",
      "[[3 4 5]\n",
      " [6 7 8]\n",
      " [0 1 2]]\n"
     ]
    }
   ],
   "source": [
    "arr = np.arange(9).reshape(3,3)\n",
    "print(arr[:,[2,1,0]])\n",
    "print(arr[[1,2,0]])"
   ]
  },
  {
   "cell_type": "code",
   "execution_count": 150,
   "id": "f46147b8-dbbc-4b98-8e8a-f7e3fc9e6b73",
   "metadata": {},
   "outputs": [
    {
     "data": {
      "text/plain": [
       "array([5.1, 4.9, 4.7, 4.6, 5. , 5.4, 4.6, 5. , 4.4, 4.9, 5.4, 4.8, 4.8,\n",
       "       4.3, 5.8, 5.7, 5.4, 5.1, 5.7, 5.1, 5.4, 5.1, 4.6, 5.1, 4.8, 5. ,\n",
       "       5. , 5.2, 5.2, 4.7, 4.8, 5.4, 5.2, 5.5, 4.9, 5. , 5.5, 4.9, 4.4,\n",
       "       5.1, 5. , 4.5, 4.4, 5. , 5.1, 4.8, 5.1, 4.6, 5.3, 5. , 7. , 6.4,\n",
       "       6.9, 5.5, 6.5, 5.7, 6.3, 4.9, 6.6, 5.2, 5. , 5.9, 6. , 6.1, 5.6,\n",
       "       6.7, 5.6, 5.8, 6.2, 5.6, 5.9, 6.1, 6.3, 6.1, 6.4, 6.6, 6.8, 6.7,\n",
       "       6. , 5.7, 5.5, 5.5, 5.8, 6. , 5.4, 6. , 6.7, 6.3, 5.6, 5.5, 5.5,\n",
       "       6.1, 5.8, 5. , 5.6, 5.7, 5.7, 6.2, 5.1, 5.7, 6.3, 5.8, 7.1, 6.3,\n",
       "       6.5, 7.6, 4.9, 7.3, 6.7, 7.2, 6.5, 6.4, 6.8, 5.7, 5.8, 6.4, 6.5,\n",
       "       7.7, 7.7, 6. , 6.9, 5.6, 7.7, 6.3, 6.7, 7.2, 6.2, 6.1, 6.4, 7.2,\n",
       "       7.4, 7.9, 6.4, 6.3, 6.1, 7.7, 6.3, 6.4, 6. , 6.9, 6.7, 6.9, 5.8,\n",
       "       6.8, 6.7, 6.7, 6.3, 6.5, 6.2, 5.9])"
      ]
     },
     "execution_count": 150,
     "metadata": {},
     "output_type": "execute_result"
    }
   ],
   "source": [
    "url = 'https://archive.ics.uci.edu/ml/machine-learning-databases/iris/iris.data'\n",
    "iris = np.genfromtxt(url, delimiter= ',', dtype='object')\n",
    "sepallength = np.genfromtxt(url, delimiter= ',', dtype='float', usecols=[0])\n",
    "sepallength"
   ]
  },
  {
   "cell_type": "code",
   "execution_count": 162,
   "id": "ddf8370c-4665-436f-94d5-54531f2f637a",
   "metadata": {},
   "outputs": [
    {
     "name": "stdout",
     "output_type": "stream",
     "text": [
      "5.843333333333334\n",
      "5.843333333333334\n",
      "5.8\n"
     ]
    }
   ],
   "source": [
    "print(np.mean(sepallength, axis=0)) #Neu 1d thi khong can axis\n",
    "print(np.mean(sepallength))\n",
    "# print(np.mean(sepallength, axis=1)) ERROR\n",
    "print(np.median(sepallength, axis=0))"
   ]
  },
  {
   "cell_type": "code",
   "execution_count": null,
   "id": "69657fb9-c5ba-4c2e-97b7-70ac96019fa4",
   "metadata": {},
   "outputs": [],
   "source": [
    "'''\n",
    "Compute the maximum for each row in the given arr\n",
    "'''"
   ]
  },
  {
   "cell_type": "code",
   "execution_count": 170,
   "id": "ddd082bb-69fd-4b58-aa6c-63382516bd67",
   "metadata": {},
   "outputs": [
    {
     "data": {
      "text/plain": [
       "array([[4, 9, 7, 1, 7],\n",
       "       [4, 9, 2, 7, 1],\n",
       "       [5, 6, 1, 2, 3]])"
      ]
     },
     "execution_count": 170,
     "metadata": {},
     "output_type": "execute_result"
    }
   ],
   "source": [
    "a = np.random.randint(1, 10, [3,5])\n",
    "a"
   ]
  },
  {
   "cell_type": "code",
   "execution_count": 174,
   "id": "026a43d1-6911-4e28-89a0-4936e563292d",
   "metadata": {},
   "outputs": [
    {
     "data": {
      "text/plain": [
       "array([9, 9, 6])"
      ]
     },
     "execution_count": 174,
     "metadata": {},
     "output_type": "execute_result"
    }
   ],
   "source": [
    "np.max(a, axis = 1)"
   ]
  },
  {
   "cell_type": "code",
   "execution_count": 6,
   "id": "73d6fc17-a366-4ca5-be21-a798acd15771",
   "metadata": {},
   "outputs": [],
   "source": [
    "\"Tạo bảng sale_mean ghi nhận doanh thu trung binh 4 thyi truong NA, EU, JP, Other theo từng tựa game \"\n",
    "import pandas as pd\n",
    "import numpy as np"
   ]
  },
  {
   "cell_type": "code",
   "execution_count": 13,
   "id": "0d65a42f-11cb-4adc-b290-bad6726cdb26",
   "metadata": {},
   "outputs": [
    {
     "data": {
      "text/html": [
       "<div>\n",
       "<style scoped>\n",
       "    .dataframe tbody tr th:only-of-type {\n",
       "        vertical-align: middle;\n",
       "    }\n",
       "\n",
       "    .dataframe tbody tr th {\n",
       "        vertical-align: top;\n",
       "    }\n",
       "\n",
       "    .dataframe thead th {\n",
       "        text-align: right;\n",
       "    }\n",
       "</style>\n",
       "<table border=\"1\" class=\"dataframe\">\n",
       "  <thead>\n",
       "    <tr style=\"text-align: right;\">\n",
       "      <th></th>\n",
       "      <th>Rank</th>\n",
       "      <th>Name</th>\n",
       "      <th>Platform</th>\n",
       "      <th>Yeah</th>\n",
       "      <th>Genre</th>\n",
       "      <th>NA_Sales</th>\n",
       "      <th>NA_Sales_2</th>\n",
       "      <th>EU_Sales</th>\n",
       "      <th>JP_Sales</th>\n",
       "      <th>Other_Sales</th>\n",
       "      <th>Global_Sales</th>\n",
       "    </tr>\n",
       "  </thead>\n",
       "  <tbody>\n",
       "    <tr>\n",
       "      <th>0</th>\n",
       "      <td>1</td>\n",
       "      <td>EA</td>\n",
       "      <td>Switch</td>\n",
       "      <td>2022</td>\n",
       "      <td>RPG</td>\n",
       "      <td>0.57</td>\n",
       "      <td>1.22</td>\n",
       "      <td>1.86</td>\n",
       "      <td>8.21</td>\n",
       "      <td>6.47</td>\n",
       "      <td>18.33</td>\n",
       "    </tr>\n",
       "    <tr>\n",
       "      <th>1</th>\n",
       "      <td>2</td>\n",
       "      <td>Ubisoft</td>\n",
       "      <td>PC</td>\n",
       "      <td>2021</td>\n",
       "      <td>Simulation</td>\n",
       "      <td>0.67</td>\n",
       "      <td>3.34</td>\n",
       "      <td>0.65</td>\n",
       "      <td>9.54</td>\n",
       "      <td>4.06</td>\n",
       "      <td>18.26</td>\n",
       "    </tr>\n",
       "    <tr>\n",
       "      <th>2</th>\n",
       "      <td>3</td>\n",
       "      <td>SEGA</td>\n",
       "      <td>PC</td>\n",
       "      <td>2024</td>\n",
       "      <td>Action</td>\n",
       "      <td>1.78</td>\n",
       "      <td>8.75</td>\n",
       "      <td>9.28</td>\n",
       "      <td>6.77</td>\n",
       "      <td>0.48</td>\n",
       "      <td>27.06</td>\n",
       "    </tr>\n",
       "    <tr>\n",
       "      <th>3</th>\n",
       "      <td>4</td>\n",
       "      <td>Nintendo</td>\n",
       "      <td>PS5</td>\n",
       "      <td>2002</td>\n",
       "      <td>Fighting</td>\n",
       "      <td>4.43</td>\n",
       "      <td>9.75</td>\n",
       "      <td>6.70</td>\n",
       "      <td>7.07</td>\n",
       "      <td>1.44</td>\n",
       "      <td>29.39</td>\n",
       "    </tr>\n",
       "    <tr>\n",
       "      <th>4</th>\n",
       "      <td>5</td>\n",
       "      <td>EA</td>\n",
       "      <td>PS5</td>\n",
       "      <td>2016</td>\n",
       "      <td>Adventure</td>\n",
       "      <td>7.01</td>\n",
       "      <td>3.98</td>\n",
       "      <td>2.55</td>\n",
       "      <td>2.49</td>\n",
       "      <td>6.68</td>\n",
       "      <td>22.71</td>\n",
       "    </tr>\n",
       "  </tbody>\n",
       "</table>\n",
       "</div>"
      ],
      "text/plain": [
       "   Rank      Name Platform  Yeah       Genre  NA_Sales  NA_Sales_2  EU_Sales  \\\n",
       "0     1        EA   Switch  2022         RPG      0.57        1.22      1.86   \n",
       "1     2   Ubisoft       PC  2021  Simulation      0.67        3.34      0.65   \n",
       "2     3      SEGA       PC  2024      Action      1.78        8.75      9.28   \n",
       "3     4  Nintendo      PS5  2002    Fighting      4.43        9.75      6.70   \n",
       "4     5        EA      PS5  2016   Adventure      7.01        3.98      2.55   \n",
       "\n",
       "   JP_Sales  Other_Sales  Global_Sales  \n",
       "0      8.21         6.47         18.33  \n",
       "1      9.54         4.06         18.26  \n",
       "2      6.77         0.48         27.06  \n",
       "3      7.07         1.44         29.39  \n",
       "4      2.49         6.68         22.71  "
      ]
     },
     "execution_count": 13,
     "metadata": {},
     "output_type": "execute_result"
    }
   ],
   "source": [
    "game= pd.read_csv('data_sales/data.csv')\n",
    "game.head()"
   ]
  },
  {
   "cell_type": "code",
   "execution_count": 41,
   "id": "d1fd5253-33c8-413c-a944-0f42c03a111e",
   "metadata": {},
   "outputs": [
    {
     "data": {
      "text/html": [
       "<div>\n",
       "<style scoped>\n",
       "    .dataframe tbody tr th:only-of-type {\n",
       "        vertical-align: middle;\n",
       "    }\n",
       "\n",
       "    .dataframe tbody tr th {\n",
       "        vertical-align: top;\n",
       "    }\n",
       "\n",
       "    .dataframe thead th {\n",
       "        text-align: right;\n",
       "    }\n",
       "</style>\n",
       "<table border=\"1\" class=\"dataframe\">\n",
       "  <thead>\n",
       "    <tr style=\"text-align: right;\">\n",
       "      <th></th>\n",
       "      <th>Name</th>\n",
       "      <th>NA_Sales</th>\n",
       "      <th>EU_Sales</th>\n",
       "      <th>JP_Sales</th>\n",
       "      <th>Other_Sales</th>\n",
       "      <th>Global_Sales</th>\n",
       "    </tr>\n",
       "  </thead>\n",
       "  <tbody>\n",
       "    <tr>\n",
       "      <th>0</th>\n",
       "      <td>Activision</td>\n",
       "      <td>4.6050</td>\n",
       "      <td>6.975000</td>\n",
       "      <td>7.035000</td>\n",
       "      <td>6.215000</td>\n",
       "      <td>30.600000</td>\n",
       "    </tr>\n",
       "    <tr>\n",
       "      <th>1</th>\n",
       "      <td>Bandai Namco</td>\n",
       "      <td>7.2700</td>\n",
       "      <td>4.963333</td>\n",
       "      <td>4.833333</td>\n",
       "      <td>9.296667</td>\n",
       "      <td>31.683333</td>\n",
       "    </tr>\n",
       "    <tr>\n",
       "      <th>2</th>\n",
       "      <td>Capcom</td>\n",
       "      <td>7.0000</td>\n",
       "      <td>4.020000</td>\n",
       "      <td>6.950000</td>\n",
       "      <td>3.860000</td>\n",
       "      <td>30.800000</td>\n",
       "    </tr>\n",
       "    <tr>\n",
       "      <th>3</th>\n",
       "      <td>EA</td>\n",
       "      <td>4.8075</td>\n",
       "      <td>5.237500</td>\n",
       "      <td>2.935000</td>\n",
       "      <td>5.472500</td>\n",
       "      <td>23.892500</td>\n",
       "    </tr>\n",
       "    <tr>\n",
       "      <th>4</th>\n",
       "      <td>Microsoft</td>\n",
       "      <td>3.8550</td>\n",
       "      <td>5.252500</td>\n",
       "      <td>3.930000</td>\n",
       "      <td>3.067500</td>\n",
       "      <td>22.435000</td>\n",
       "    </tr>\n",
       "    <tr>\n",
       "      <th>5</th>\n",
       "      <td>Nintendo</td>\n",
       "      <td>4.4300</td>\n",
       "      <td>6.700000</td>\n",
       "      <td>7.070000</td>\n",
       "      <td>1.440000</td>\n",
       "      <td>29.390000</td>\n",
       "    </tr>\n",
       "    <tr>\n",
       "      <th>6</th>\n",
       "      <td>SEGA</td>\n",
       "      <td>4.5600</td>\n",
       "      <td>6.435000</td>\n",
       "      <td>5.785000</td>\n",
       "      <td>3.370000</td>\n",
       "      <td>28.785000</td>\n",
       "    </tr>\n",
       "    <tr>\n",
       "      <th>7</th>\n",
       "      <td>Sony</td>\n",
       "      <td>4.8150</td>\n",
       "      <td>3.995000</td>\n",
       "      <td>3.835000</td>\n",
       "      <td>3.830000</td>\n",
       "      <td>21.170000</td>\n",
       "    </tr>\n",
       "    <tr>\n",
       "      <th>8</th>\n",
       "      <td>Ubisoft</td>\n",
       "      <td>0.6700</td>\n",
       "      <td>0.650000</td>\n",
       "      <td>9.540000</td>\n",
       "      <td>4.060000</td>\n",
       "      <td>18.260000</td>\n",
       "    </tr>\n",
       "  </tbody>\n",
       "</table>\n",
       "</div>"
      ],
      "text/plain": [
       "           Name  NA_Sales  EU_Sales  JP_Sales  Other_Sales  Global_Sales\n",
       "0    Activision    4.6050  6.975000  7.035000     6.215000     30.600000\n",
       "1  Bandai Namco    7.2700  4.963333  4.833333     9.296667     31.683333\n",
       "2        Capcom    7.0000  4.020000  6.950000     3.860000     30.800000\n",
       "3            EA    4.8075  5.237500  2.935000     5.472500     23.892500\n",
       "4     Microsoft    3.8550  5.252500  3.930000     3.067500     22.435000\n",
       "5      Nintendo    4.4300  6.700000  7.070000     1.440000     29.390000\n",
       "6          SEGA    4.5600  6.435000  5.785000     3.370000     28.785000\n",
       "7          Sony    4.8150  3.995000  3.835000     3.830000     21.170000\n",
       "8       Ubisoft    0.6700  0.650000  9.540000     4.060000     18.260000"
      ]
     },
     "execution_count": 41,
     "metadata": {},
     "output_type": "execute_result"
    }
   ],
   "source": [
    "mean_sale= game.groupby('Name', as_index=False)[['NA_Sales', 'EU_Sales', 'JP_Sales', 'Other_Sales', 'Global_Sales']].mean()\n",
    "mean_sale"
   ]
  },
  {
   "cell_type": "code",
   "execution_count": null,
   "id": "2bfcba10-f78f-44d2-94be-d35af60e25ea",
   "metadata": {},
   "outputs": [],
   "source": [
    "'Tao bang publish_yeah ghi nhan nam phat hanh cua tung tua gam'"
   ]
  },
  {
   "cell_type": "code",
   "execution_count": 49,
   "id": "61839dae-78ea-4ff9-a768-2b4cb15e3a59",
   "metadata": {},
   "outputs": [
    {
     "data": {
      "text/html": [
       "<div>\n",
       "<style scoped>\n",
       "    .dataframe tbody tr th:only-of-type {\n",
       "        vertical-align: middle;\n",
       "    }\n",
       "\n",
       "    .dataframe tbody tr th {\n",
       "        vertical-align: top;\n",
       "    }\n",
       "\n",
       "    .dataframe thead th {\n",
       "        text-align: right;\n",
       "    }\n",
       "</style>\n",
       "<table border=\"1\" class=\"dataframe\">\n",
       "  <thead>\n",
       "    <tr style=\"text-align: right;\">\n",
       "      <th></th>\n",
       "      <th>Name</th>\n",
       "      <th>Yeah</th>\n",
       "    </tr>\n",
       "  </thead>\n",
       "  <tbody>\n",
       "    <tr>\n",
       "      <th>0</th>\n",
       "      <td>Activision</td>\n",
       "      <td>2001</td>\n",
       "    </tr>\n",
       "    <tr>\n",
       "      <th>1</th>\n",
       "      <td>Bandai Namco</td>\n",
       "      <td>2006</td>\n",
       "    </tr>\n",
       "    <tr>\n",
       "      <th>2</th>\n",
       "      <td>Capcom</td>\n",
       "      <td>2000</td>\n",
       "    </tr>\n",
       "    <tr>\n",
       "      <th>3</th>\n",
       "      <td>EA</td>\n",
       "      <td>2004</td>\n",
       "    </tr>\n",
       "    <tr>\n",
       "      <th>4</th>\n",
       "      <td>Microsoft</td>\n",
       "      <td>2006</td>\n",
       "    </tr>\n",
       "    <tr>\n",
       "      <th>5</th>\n",
       "      <td>Nintendo</td>\n",
       "      <td>2002</td>\n",
       "    </tr>\n",
       "    <tr>\n",
       "      <th>6</th>\n",
       "      <td>SEGA</td>\n",
       "      <td>2018</td>\n",
       "    </tr>\n",
       "    <tr>\n",
       "      <th>7</th>\n",
       "      <td>Sony</td>\n",
       "      <td>2005</td>\n",
       "    </tr>\n",
       "    <tr>\n",
       "      <th>8</th>\n",
       "      <td>Ubisoft</td>\n",
       "      <td>2021</td>\n",
       "    </tr>\n",
       "  </tbody>\n",
       "</table>\n",
       "</div>"
      ],
      "text/plain": [
       "           Name  Yeah\n",
       "0    Activision  2001\n",
       "1  Bandai Namco  2006\n",
       "2        Capcom  2000\n",
       "3            EA  2004\n",
       "4     Microsoft  2006\n",
       "5      Nintendo  2002\n",
       "6          SEGA  2018\n",
       "7          Sony  2005\n",
       "8       Ubisoft  2021"
      ]
     },
     "execution_count": 49,
     "metadata": {},
     "output_type": "execute_result"
    }
   ],
   "source": [
    "publish_year= game.groupby('Name')['Yeah'].min().reset_index()\n",
    "publish_year"
   ]
  },
  {
   "cell_type": "code",
   "execution_count": null,
   "id": "bd4f5d64-10f2-4289-914e-d726b910e84e",
   "metadata": {},
   "outputs": [],
   "source": [
    "'Merge bangr mean_sale and  publish year with key is Name'"
   ]
  },
  {
   "cell_type": "code",
   "execution_count": 68,
   "id": "cb902f9d-eb3b-43bd-98bd-9622e5e6c863",
   "metadata": {},
   "outputs": [
    {
     "data": {
      "text/html": [
       "<div>\n",
       "<style scoped>\n",
       "    .dataframe tbody tr th:only-of-type {\n",
       "        vertical-align: middle;\n",
       "    }\n",
       "\n",
       "    .dataframe tbody tr th {\n",
       "        vertical-align: top;\n",
       "    }\n",
       "\n",
       "    .dataframe thead th {\n",
       "        text-align: right;\n",
       "    }\n",
       "</style>\n",
       "<table border=\"1\" class=\"dataframe\">\n",
       "  <thead>\n",
       "    <tr style=\"text-align: right;\">\n",
       "      <th></th>\n",
       "      <th>Name</th>\n",
       "      <th>NA_Sales</th>\n",
       "      <th>EU_Sales</th>\n",
       "      <th>JP_Sales</th>\n",
       "      <th>Other_Sales</th>\n",
       "      <th>Global_Sales</th>\n",
       "      <th>Yeah</th>\n",
       "    </tr>\n",
       "  </thead>\n",
       "  <tbody>\n",
       "    <tr>\n",
       "      <th>0</th>\n",
       "      <td>Activision</td>\n",
       "      <td>4.6050</td>\n",
       "      <td>6.975000</td>\n",
       "      <td>7.035000</td>\n",
       "      <td>6.215000</td>\n",
       "      <td>30.600000</td>\n",
       "      <td>2001</td>\n",
       "    </tr>\n",
       "    <tr>\n",
       "      <th>1</th>\n",
       "      <td>Bandai Namco</td>\n",
       "      <td>7.2700</td>\n",
       "      <td>4.963333</td>\n",
       "      <td>4.833333</td>\n",
       "      <td>9.296667</td>\n",
       "      <td>31.683333</td>\n",
       "      <td>2006</td>\n",
       "    </tr>\n",
       "    <tr>\n",
       "      <th>2</th>\n",
       "      <td>Capcom</td>\n",
       "      <td>7.0000</td>\n",
       "      <td>4.020000</td>\n",
       "      <td>6.950000</td>\n",
       "      <td>3.860000</td>\n",
       "      <td>30.800000</td>\n",
       "      <td>2000</td>\n",
       "    </tr>\n",
       "    <tr>\n",
       "      <th>3</th>\n",
       "      <td>EA</td>\n",
       "      <td>4.8075</td>\n",
       "      <td>5.237500</td>\n",
       "      <td>2.935000</td>\n",
       "      <td>5.472500</td>\n",
       "      <td>23.892500</td>\n",
       "      <td>2004</td>\n",
       "    </tr>\n",
       "    <tr>\n",
       "      <th>4</th>\n",
       "      <td>Microsoft</td>\n",
       "      <td>3.8550</td>\n",
       "      <td>5.252500</td>\n",
       "      <td>3.930000</td>\n",
       "      <td>3.067500</td>\n",
       "      <td>22.435000</td>\n",
       "      <td>2006</td>\n",
       "    </tr>\n",
       "    <tr>\n",
       "      <th>5</th>\n",
       "      <td>Nintendo</td>\n",
       "      <td>4.4300</td>\n",
       "      <td>6.700000</td>\n",
       "      <td>7.070000</td>\n",
       "      <td>1.440000</td>\n",
       "      <td>29.390000</td>\n",
       "      <td>2002</td>\n",
       "    </tr>\n",
       "    <tr>\n",
       "      <th>6</th>\n",
       "      <td>SEGA</td>\n",
       "      <td>4.5600</td>\n",
       "      <td>6.435000</td>\n",
       "      <td>5.785000</td>\n",
       "      <td>3.370000</td>\n",
       "      <td>28.785000</td>\n",
       "      <td>2018</td>\n",
       "    </tr>\n",
       "    <tr>\n",
       "      <th>7</th>\n",
       "      <td>Sony</td>\n",
       "      <td>4.8150</td>\n",
       "      <td>3.995000</td>\n",
       "      <td>3.835000</td>\n",
       "      <td>3.830000</td>\n",
       "      <td>21.170000</td>\n",
       "      <td>2005</td>\n",
       "    </tr>\n",
       "    <tr>\n",
       "      <th>8</th>\n",
       "      <td>Ubisoft</td>\n",
       "      <td>0.6700</td>\n",
       "      <td>0.650000</td>\n",
       "      <td>9.540000</td>\n",
       "      <td>4.060000</td>\n",
       "      <td>18.260000</td>\n",
       "      <td>2021</td>\n",
       "    </tr>\n",
       "  </tbody>\n",
       "</table>\n",
       "</div>"
      ],
      "text/plain": [
       "           Name  NA_Sales  EU_Sales  JP_Sales  Other_Sales  Global_Sales  Yeah\n",
       "0    Activision    4.6050  6.975000  7.035000     6.215000     30.600000  2001\n",
       "1  Bandai Namco    7.2700  4.963333  4.833333     9.296667     31.683333  2006\n",
       "2        Capcom    7.0000  4.020000  6.950000     3.860000     30.800000  2000\n",
       "3            EA    4.8075  5.237500  2.935000     5.472500     23.892500  2004\n",
       "4     Microsoft    3.8550  5.252500  3.930000     3.067500     22.435000  2006\n",
       "5      Nintendo    4.4300  6.700000  7.070000     1.440000     29.390000  2002\n",
       "6          SEGA    4.5600  6.435000  5.785000     3.370000     28.785000  2018\n",
       "7          Sony    4.8150  3.995000  3.835000     3.830000     21.170000  2005\n",
       "8       Ubisoft    0.6700  0.650000  9.540000     4.060000     18.260000  2021"
      ]
     },
     "execution_count": 68,
     "metadata": {},
     "output_type": "execute_result"
    }
   ],
   "source": [
    "# merges= pd.merge(mean_sale, publish_year,\n",
    "#                  on= 'Name')\n",
    "merges = mean_sale.merge(publish_year, on= 'Name')\n",
    "merges"
   ]
  },
  {
   "cell_type": "code",
   "execution_count": null,
   "id": "fb69d35a-7afe-4fad-96c9-8ea7f6cdaa5b",
   "metadata": {},
   "outputs": [],
   "source": [
    "'''Tao bang sale gom Name, NA_Sales, EU_Sales, JP_Sales, Other_Sales\n",
    "   chuyen bang sale tu wide sang long table \n",
    "'''"
   ]
  },
  {
   "cell_type": "code",
   "execution_count": 75,
   "id": "6af049f6-4584-4677-80c2-7f26362de81c",
   "metadata": {},
   "outputs": [
    {
     "data": {
      "text/html": [
       "<div>\n",
       "<style scoped>\n",
       "    .dataframe tbody tr th:only-of-type {\n",
       "        vertical-align: middle;\n",
       "    }\n",
       "\n",
       "    .dataframe tbody tr th {\n",
       "        vertical-align: top;\n",
       "    }\n",
       "\n",
       "    .dataframe thead th {\n",
       "        text-align: right;\n",
       "    }\n",
       "</style>\n",
       "<table border=\"1\" class=\"dataframe\">\n",
       "  <thead>\n",
       "    <tr style=\"text-align: right;\">\n",
       "      <th></th>\n",
       "      <th>Name</th>\n",
       "      <th>NA_Sales</th>\n",
       "      <th>EU_Sales</th>\n",
       "      <th>JP_Sales</th>\n",
       "      <th>Other_Sales</th>\n",
       "    </tr>\n",
       "  </thead>\n",
       "  <tbody>\n",
       "    <tr>\n",
       "      <th>0</th>\n",
       "      <td>EA</td>\n",
       "      <td>0.57</td>\n",
       "      <td>1.86</td>\n",
       "      <td>8.21</td>\n",
       "      <td>6.47</td>\n",
       "    </tr>\n",
       "    <tr>\n",
       "      <th>1</th>\n",
       "      <td>Ubisoft</td>\n",
       "      <td>0.67</td>\n",
       "      <td>0.65</td>\n",
       "      <td>9.54</td>\n",
       "      <td>4.06</td>\n",
       "    </tr>\n",
       "    <tr>\n",
       "      <th>2</th>\n",
       "      <td>SEGA</td>\n",
       "      <td>1.78</td>\n",
       "      <td>9.28</td>\n",
       "      <td>6.77</td>\n",
       "      <td>0.48</td>\n",
       "    </tr>\n",
       "    <tr>\n",
       "      <th>3</th>\n",
       "      <td>Nintendo</td>\n",
       "      <td>4.43</td>\n",
       "      <td>6.70</td>\n",
       "      <td>7.07</td>\n",
       "      <td>1.44</td>\n",
       "    </tr>\n",
       "    <tr>\n",
       "      <th>4</th>\n",
       "      <td>EA</td>\n",
       "      <td>7.01</td>\n",
       "      <td>2.55</td>\n",
       "      <td>2.49</td>\n",
       "      <td>6.68</td>\n",
       "    </tr>\n",
       "    <tr>\n",
       "      <th>5</th>\n",
       "      <td>Sony</td>\n",
       "      <td>0.23</td>\n",
       "      <td>6.83</td>\n",
       "      <td>2.88</td>\n",
       "      <td>2.71</td>\n",
       "    </tr>\n",
       "    <tr>\n",
       "      <th>6</th>\n",
       "      <td>SEGA</td>\n",
       "      <td>7.34</td>\n",
       "      <td>3.59</td>\n",
       "      <td>4.80</td>\n",
       "      <td>6.26</td>\n",
       "    </tr>\n",
       "    <tr>\n",
       "      <th>7</th>\n",
       "      <td>Microsoft</td>\n",
       "      <td>0.14</td>\n",
       "      <td>6.46</td>\n",
       "      <td>1.86</td>\n",
       "      <td>1.53</td>\n",
       "    </tr>\n",
       "    <tr>\n",
       "      <th>8</th>\n",
       "      <td>Microsoft</td>\n",
       "      <td>2.81</td>\n",
       "      <td>2.14</td>\n",
       "      <td>2.30</td>\n",
       "      <td>3.86</td>\n",
       "    </tr>\n",
       "    <tr>\n",
       "      <th>9</th>\n",
       "      <td>EA</td>\n",
       "      <td>2.09</td>\n",
       "      <td>9.88</td>\n",
       "      <td>0.53</td>\n",
       "      <td>7.80</td>\n",
       "    </tr>\n",
       "    <tr>\n",
       "      <th>10</th>\n",
       "      <td>Microsoft</td>\n",
       "      <td>3.90</td>\n",
       "      <td>6.59</td>\n",
       "      <td>9.62</td>\n",
       "      <td>0.88</td>\n",
       "    </tr>\n",
       "    <tr>\n",
       "      <th>11</th>\n",
       "      <td>Activision</td>\n",
       "      <td>1.59</td>\n",
       "      <td>4.32</td>\n",
       "      <td>7.87</td>\n",
       "      <td>9.98</td>\n",
       "    </tr>\n",
       "    <tr>\n",
       "      <th>12</th>\n",
       "      <td>Capcom</td>\n",
       "      <td>7.00</td>\n",
       "      <td>4.02</td>\n",
       "      <td>6.95</td>\n",
       "      <td>3.86</td>\n",
       "    </tr>\n",
       "    <tr>\n",
       "      <th>13</th>\n",
       "      <td>Microsoft</td>\n",
       "      <td>8.57</td>\n",
       "      <td>5.82</td>\n",
       "      <td>1.94</td>\n",
       "      <td>6.00</td>\n",
       "    </tr>\n",
       "    <tr>\n",
       "      <th>14</th>\n",
       "      <td>EA</td>\n",
       "      <td>9.56</td>\n",
       "      <td>6.66</td>\n",
       "      <td>0.51</td>\n",
       "      <td>0.94</td>\n",
       "    </tr>\n",
       "    <tr>\n",
       "      <th>15</th>\n",
       "      <td>Bandai Namco</td>\n",
       "      <td>8.65</td>\n",
       "      <td>8.10</td>\n",
       "      <td>0.39</td>\n",
       "      <td>8.25</td>\n",
       "    </tr>\n",
       "    <tr>\n",
       "      <th>16</th>\n",
       "      <td>Activision</td>\n",
       "      <td>7.62</td>\n",
       "      <td>9.63</td>\n",
       "      <td>6.20</td>\n",
       "      <td>2.45</td>\n",
       "    </tr>\n",
       "    <tr>\n",
       "      <th>17</th>\n",
       "      <td>Bandai Namco</td>\n",
       "      <td>7.92</td>\n",
       "      <td>0.51</td>\n",
       "      <td>6.12</td>\n",
       "      <td>9.78</td>\n",
       "    </tr>\n",
       "    <tr>\n",
       "      <th>18</th>\n",
       "      <td>Bandai Namco</td>\n",
       "      <td>5.24</td>\n",
       "      <td>6.28</td>\n",
       "      <td>7.99</td>\n",
       "      <td>9.86</td>\n",
       "    </tr>\n",
       "    <tr>\n",
       "      <th>19</th>\n",
       "      <td>Sony</td>\n",
       "      <td>9.40</td>\n",
       "      <td>1.16</td>\n",
       "      <td>4.79</td>\n",
       "      <td>4.95</td>\n",
       "    </tr>\n",
       "  </tbody>\n",
       "</table>\n",
       "</div>"
      ],
      "text/plain": [
       "            Name  NA_Sales  EU_Sales  JP_Sales  Other_Sales\n",
       "0             EA      0.57      1.86      8.21         6.47\n",
       "1        Ubisoft      0.67      0.65      9.54         4.06\n",
       "2           SEGA      1.78      9.28      6.77         0.48\n",
       "3       Nintendo      4.43      6.70      7.07         1.44\n",
       "4             EA      7.01      2.55      2.49         6.68\n",
       "5           Sony      0.23      6.83      2.88         2.71\n",
       "6           SEGA      7.34      3.59      4.80         6.26\n",
       "7      Microsoft      0.14      6.46      1.86         1.53\n",
       "8      Microsoft      2.81      2.14      2.30         3.86\n",
       "9             EA      2.09      9.88      0.53         7.80\n",
       "10     Microsoft      3.90      6.59      9.62         0.88\n",
       "11    Activision      1.59      4.32      7.87         9.98\n",
       "12        Capcom      7.00      4.02      6.95         3.86\n",
       "13     Microsoft      8.57      5.82      1.94         6.00\n",
       "14            EA      9.56      6.66      0.51         0.94\n",
       "15  Bandai Namco      8.65      8.10      0.39         8.25\n",
       "16    Activision      7.62      9.63      6.20         2.45\n",
       "17  Bandai Namco      7.92      0.51      6.12         9.78\n",
       "18  Bandai Namco      5.24      6.28      7.99         9.86\n",
       "19          Sony      9.40      1.16      4.79         4.95"
      ]
     },
     "execution_count": 75,
     "metadata": {},
     "output_type": "execute_result"
    }
   ],
   "source": [
    "sale = game[['Name', 'NA_Sales', 'EU_Sales', 'JP_Sales', 'Other_Sales']]\n",
    "sale"
   ]
  },
  {
   "cell_type": "code",
   "execution_count": 110,
   "id": "8b94d768-2812-440c-9910-5abab98872d7",
   "metadata": {},
   "outputs": [
    {
     "data": {
      "text/html": [
       "<div>\n",
       "<style scoped>\n",
       "    .dataframe tbody tr th:only-of-type {\n",
       "        vertical-align: middle;\n",
       "    }\n",
       "\n",
       "    .dataframe tbody tr th {\n",
       "        vertical-align: top;\n",
       "    }\n",
       "\n",
       "    .dataframe thead th {\n",
       "        text-align: right;\n",
       "    }\n",
       "</style>\n",
       "<table border=\"1\" class=\"dataframe\">\n",
       "  <thead>\n",
       "    <tr style=\"text-align: right;\">\n",
       "      <th></th>\n",
       "      <th>Name</th>\n",
       "      <th>Area</th>\n",
       "      <th>Sales</th>\n",
       "    </tr>\n",
       "  </thead>\n",
       "  <tbody>\n",
       "    <tr>\n",
       "      <th>0</th>\n",
       "      <td>EA</td>\n",
       "      <td>NA_Sales</td>\n",
       "      <td>0.57</td>\n",
       "    </tr>\n",
       "    <tr>\n",
       "      <th>1</th>\n",
       "      <td>Ubisoft</td>\n",
       "      <td>NA_Sales</td>\n",
       "      <td>0.67</td>\n",
       "    </tr>\n",
       "    <tr>\n",
       "      <th>2</th>\n",
       "      <td>SEGA</td>\n",
       "      <td>NA_Sales</td>\n",
       "      <td>1.78</td>\n",
       "    </tr>\n",
       "    <tr>\n",
       "      <th>3</th>\n",
       "      <td>Nintendo</td>\n",
       "      <td>NA_Sales</td>\n",
       "      <td>4.43</td>\n",
       "    </tr>\n",
       "    <tr>\n",
       "      <th>4</th>\n",
       "      <td>EA</td>\n",
       "      <td>NA_Sales</td>\n",
       "      <td>7.01</td>\n",
       "    </tr>\n",
       "    <tr>\n",
       "      <th>...</th>\n",
       "      <td>...</td>\n",
       "      <td>...</td>\n",
       "      <td>...</td>\n",
       "    </tr>\n",
       "    <tr>\n",
       "      <th>75</th>\n",
       "      <td>Bandai Namco</td>\n",
       "      <td>Other_Sales</td>\n",
       "      <td>8.25</td>\n",
       "    </tr>\n",
       "    <tr>\n",
       "      <th>76</th>\n",
       "      <td>Activision</td>\n",
       "      <td>Other_Sales</td>\n",
       "      <td>2.45</td>\n",
       "    </tr>\n",
       "    <tr>\n",
       "      <th>77</th>\n",
       "      <td>Bandai Namco</td>\n",
       "      <td>Other_Sales</td>\n",
       "      <td>9.78</td>\n",
       "    </tr>\n",
       "    <tr>\n",
       "      <th>78</th>\n",
       "      <td>Bandai Namco</td>\n",
       "      <td>Other_Sales</td>\n",
       "      <td>9.86</td>\n",
       "    </tr>\n",
       "    <tr>\n",
       "      <th>79</th>\n",
       "      <td>Sony</td>\n",
       "      <td>Other_Sales</td>\n",
       "      <td>4.95</td>\n",
       "    </tr>\n",
       "  </tbody>\n",
       "</table>\n",
       "<p>80 rows × 3 columns</p>\n",
       "</div>"
      ],
      "text/plain": [
       "            Name         Area  Sales\n",
       "0             EA     NA_Sales   0.57\n",
       "1        Ubisoft     NA_Sales   0.67\n",
       "2           SEGA     NA_Sales   1.78\n",
       "3       Nintendo     NA_Sales   4.43\n",
       "4             EA     NA_Sales   7.01\n",
       "..           ...          ...    ...\n",
       "75  Bandai Namco  Other_Sales   8.25\n",
       "76    Activision  Other_Sales   2.45\n",
       "77  Bandai Namco  Other_Sales   9.78\n",
       "78  Bandai Namco  Other_Sales   9.86\n",
       "79          Sony  Other_Sales   4.95\n",
       "\n",
       "[80 rows x 3 columns]"
      ]
     },
     "execution_count": 110,
     "metadata": {},
     "output_type": "execute_result"
    }
   ],
   "source": [
    "data_long = pd.melt(sale, ['Name']) \n",
    "# INPLACE = TRUE (TRUC TIEP LEN DATA_LONG)\n",
    "data_long.rename(columns= {'variable': 'Area', 'value': 'Sales'}, inplace= True)\n",
    "# INPLACE = FALSE (GAN CHO 1 BIEN KHAC VA DATA OF  DATA_LONG VAN GIU NGUYEN)\n",
    "No_inplace = data_long.rename(columns= {'variable': 'Area', 'value': 'Sales'})\n",
    "No_inplace"
   ]
  },
  {
   "cell_type": "code",
   "execution_count": null,
   "id": "dded0b35-c765-429b-ab39-b829cba0037e",
   "metadata": {},
   "outputs": [],
   "source": []
  }
 ],
 "metadata": {
  "kernelspec": {
   "display_name": "Python [conda env:base] *",
   "language": "python",
   "name": "conda-base-py"
  },
  "language_info": {
   "codemirror_mode": {
    "name": "ipython",
    "version": 3
   },
   "file_extension": ".py",
   "mimetype": "text/x-python",
   "name": "python",
   "nbconvert_exporter": "python",
   "pygments_lexer": "ipython3",
   "version": "3.12.7"
  }
 },
 "nbformat": 4,
 "nbformat_minor": 5
}
