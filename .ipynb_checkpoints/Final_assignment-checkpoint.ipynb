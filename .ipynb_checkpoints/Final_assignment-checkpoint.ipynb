{
 "cells": [
  {
   "cell_type": "code",
   "execution_count": null,
   "id": "aaa45687-f5b6-4b9d-85a5-6685dceab4d5",
   "metadata": {},
   "outputs": [],
   "source": [
    "Q1\n",
    "Viết hàm filter_numbers(x) nhập vào 1 list x và trả về 1 list gồm các phần tử là số (int, float) của x"
   ]
  },
  {
   "cell_type": "code",
   "execution_count": null,
   "id": "59e2dbc4-e410-4d65-b4fd-34c0d84c98ac",
   "metadata": {},
   "outputs": [],
   "source": [
    "fillter_numbers([1,2,'A', True, -1,-2.4,[1,2], False])"
   ]
  },
  {
   "cell_type": "code",
   "execution_count": 13,
   "id": "5328275e-1948-44ce-bd7e-06f2551f47a0",
   "metadata": {},
   "outputs": [],
   "source": [
    "def fillter_numbers(x):\n",
    "     #Co may cac de tra list\n",
    "    #C1: use list Conprehensions\n",
    "    # Check\n",
    "    if type(x) != list:\n",
    "        raise Exception(\"Please input a list\")\n",
    "    else:\n",
    "        return [i for i in x if type(i) in [int, float]]"
   ]
  },
  {
   "cell_type": "code",
   "execution_count": 17,
   "id": "55e5a4cf-b795-428c-8f3f-c8cd081a6dbb",
   "metadata": {},
   "outputs": [
    {
     "data": {
      "text/plain": [
       "[1, 2, -1, -2.4]"
      ]
     },
     "execution_count": 17,
     "metadata": {},
     "output_type": "execute_result"
    }
   ],
   "source": [
    "fillter_numbers([1,2,'A', True, -1,-2.4,[1,2], False])"
   ]
  },
  {
   "cell_type": "code",
   "execution_count": null,
   "id": "e60ccf4f-5d8b-45c7-ad8e-f5e6fabe90e6",
   "metadata": {},
   "outputs": [],
   "source": [
    "Viết hàm count_element_types(x), nhập vào 1 list trả về số 1 tuple có 4 phần tử\n",
    "1. Phần tử đầu: Số các phần tử là số dương trong x\n",
    "2. Phần tử đầu: Số các phần tử là số âm trong x\n",
    "3. Phần tử đầu: Số các phần tử là số 0 trong x\n",
    "4. Phần tử đầu: Số các phần tử không là số trong x"
   ]
  },
  {
   "cell_type": "code",
   "execution_count": 2,
   "id": "0c2d7182-328e-46b8-96de-8e359ee5c756",
   "metadata": {},
   "outputs": [],
   "source": [
    "def count_element_types(x):\n",
    "    a= b = c = d = 0\n",
    "    for i in x:\n",
    "        if type(i) not in [int, float]:\n",
    "            d += 1\n",
    "        elif i > 0:\n",
    "            a +=1\n",
    "        elif i < 0: \n",
    "            b += 1\n",
    "        elif i == 0:\n",
    "            c +=1\n",
    "    return (a,b,c,d)\n",
    "\n",
    "        "
   ]
  },
  {
   "cell_type": "code",
   "execution_count": 4,
   "id": "6aa66b05-6d10-41f6-8478-e97c7909e713",
   "metadata": {},
   "outputs": [
    {
     "data": {
      "text/plain": [
       "(3, 2, 2, 4)"
      ]
     },
     "execution_count": 4,
     "metadata": {},
     "output_type": "execute_result"
    }
   ],
   "source": [
    "count_element_types([1,2,'A', True, -1,-2.5,7,[1,2],False, 0,0])"
   ]
  },
  {
   "cell_type": "code",
   "execution_count": null,
   "id": "02d11445-8853-4ba9-896c-2891f180156b",
   "metadata": {},
   "outputs": [],
   "source": [
    "Viet ham count_numbers_div_by_9(n) nhap vao mot so nguyen n tra ve so chan chia het cho 9 trong so n so nguyen duong dau tien tu 1 den n"
   ]
  },
  {
   "cell_type": "code",
   "execution_count": 38,
   "id": "d52b961b-5cc7-480c-bbc2-1197ef3dde50",
   "metadata": {},
   "outputs": [],
   "source": [
    "def count_numbers_div_by_9(n):\n",
    "    count = 0\n",
    "    for i in range(1,n + 1):\n",
    "       #if sum(map(int, str(i))) % 9 == 0 and i % 2 ==0: # 1,2,3 => ['1', '2', '3'] => 1 + 2 + 3\n",
    "        if i % 2 == 0 and i % 9 == 0:\n",
    "           count += 1\n",
    "    return count"
   ]
  },
  {
   "cell_type": "code",
   "execution_count": 40,
   "id": "71796a0b-ef92-4ab6-adaa-395112ce07ed",
   "metadata": {},
   "outputs": [
    {
     "data": {
      "text/plain": [
       "5"
      ]
     },
     "execution_count": 40,
     "metadata": {},
     "output_type": "execute_result"
    }
   ],
   "source": [
    "count_numbers_div_by_9(100)"
   ]
  },
  {
   "cell_type": "code",
   "execution_count": null,
   "id": "d45b5a76-423b-4944-9039-726f550a73fb",
   "metadata": {},
   "outputs": [],
   "source": [
    "Viet ham sumarize_data(x) nhap vao 1 list x gồm các số (int, float) trả về một dictionary có 3 keys min, max, avg với values tương ung"
   ]
  },
  {
   "cell_type": "code",
   "execution_count": 111,
   "id": "5a052d43-a235-4de7-9461-df491e28a68f",
   "metadata": {},
   "outputs": [],
   "source": [
    "import numpy as np\n",
    "def sumarize_data(x):\n",
    "    if type(x) != list:\n",
    "        raise Exception(\"Please input a list\")\n",
    "    for i in x:\n",
    "        if type(i) not in [float, int]:\n",
    "            raise Exception(\"Please element is number\")\n",
    "    return {'min': min(x), 'max': max(x), 'avg': np.mean(x)}        "
   ]
  },
  {
   "cell_type": "code",
   "execution_count": 113,
   "id": "61627006-6db8-48ab-9385-89950c69cefe",
   "metadata": {},
   "outputs": [
    {
     "data": {
      "text/plain": [
       "{'min': -10, 'max': 15, 'avg': 4.571428571428571}"
      ]
     },
     "execution_count": 113,
     "metadata": {},
     "output_type": "execute_result"
    }
   ],
   "source": [
    "sumarize_data([1,-10,2,7,8,9,15])"
   ]
  },
  {
   "cell_type": "code",
   "execution_count": null,
   "id": "961ca5ce-3988-4f85-883e-b4234e6f9c2b",
   "metadata": {},
   "outputs": [],
   "source": [
    "Viet ham count_common(x,y) nhap vao2 lists x va y tra ve so luong phan tu chung giua 2 list nhung ptu trung chi dem 1 lan"
   ]
  },
  {
   "cell_type": "code",
   "execution_count": null,
   "id": "e826e131-36d2-4d60-8006-df8593ae9f22",
   "metadata": {},
   "outputs": [],
   "source": [
    "def count_common(x,y):\n",
    "    cm = []\n",
    "    for i in x:\n",
    "        if i in y and i not in cm:\n",
    "            cm.append(i)\n",
    "    return len(cm)\n",
    "\n",
    "'''\n",
    "- Neu dung cach dem bth thi khong kt duoc khi nao da duyet ptu trung do chua\n",
    "- Neu ptu cua A1 co trong A2 va A1 khong nam trong pt lap lai => them so pt vao lap lai\n",
    "- Sau khi them xong do de yeu cau dem ma cm la list nen can dung ham len de dem so luong ptu co trong list do\n",
    "'''"
   ]
  },
  {
   "cell_type": "code",
   "execution_count": null,
   "id": "cce661cd-f733-4aa0-bd45-a3420724afb9",
   "metadata": {},
   "outputs": [],
   "source": [
    "Viet ham count_vowels_consonants(s). Nhap vao 1 string s co ky tu nam trong 26 chu cai tieng anh, tra ve 1 tuple gom 2 phan tu:\n",
    "- Phan tu dau la so luong la cac nguyen am (u,e,o,a,i)\n",
    "- Phan tu thu 2 la so luong ky tu phu am"
   ]
  },
  {
   "cell_type": "code",
   "execution_count": 3,
   "id": "ad817dbf-4b78-4456-b174-7e2df3b73c80",
   "metadata": {},
   "outputs": [],
   "source": [
    "def count_vowels_consonants(s):\n",
    "    vowels = {'u', 'e', 'o', 'a', 'i'}\n",
    "    s = s.lower()\n",
    "    n_a = p_a = 0\n",
    "    for i in s:\n",
    "        if i.isalpha(): #Check chu cai\n",
    "            if i in vowels:\n",
    "                n_a += 1\n",
    "            else:\n",
    "                p_a += 1\n",
    "    return (n_a, p_a)\n",
    "\n",
    "    "
   ]
  },
  {
   "cell_type": "code",
   "execution_count": 5,
   "id": "69c3ee17-c458-48f5-a361-6646faf298e1",
   "metadata": {},
   "outputs": [
    {
     "data": {
      "text/plain": [
       "(5, 5)"
      ]
     },
     "execution_count": 5,
     "metadata": {},
     "output_type": "execute_result"
    }
   ],
   "source": [
    "count_vowels_consonants(\"Hello Annie\")"
   ]
  },
  {
   "cell_type": "code",
   "execution_count": null,
   "id": "b667ccd9-0b80-4fa0-aa32-cd246042c38a",
   "metadata": {},
   "outputs": [],
   "source": [
    "Viet ham sort_words(s) nhap vao 1 string gom cac tu cach nhanh boi dau comma ',' \n",
    "tra ve cac ptu cach nhanh boi dau comma nhung cac tu da duoc sawp xep theo A-Z luu ys string tra ve o dang lowercase"
   ]
  },
  {
   "cell_type": "code",
   "execution_count": 104,
   "id": "1f915551-797a-49a0-801e-110291645cf2",
   "metadata": {},
   "outputs": [],
   "source": [
    "# C1: CREATE 1 ARRAY AND USE METHOD 'APPEND'\n",
    "def sort_words_v1(s):\n",
    "    k = []\n",
    "    for i in s.split(','):\n",
    "        k.append(i.lower())\n",
    "    return sorted(k)\n",
    "\n",
    "def sort_words_v2(s):\n",
    "    k = [ i.lower() for i in s.split(\",\")]\n",
    "    k.sort()\n",
    "    return k\n",
    "\n",
    "def sort_words_v3(s):\n",
    "    v = [i.lower() for i in s.split(',')]\n",
    "    return ','.join(sorted(v))"
   ]
  },
  {
   "cell_type": "code",
   "execution_count": 102,
   "id": "7f8dc17c-bf39-4dfe-8739-82a4738cce73",
   "metadata": {},
   "outputs": [
    {
     "data": {
      "text/plain": [
       "['asd', 'cat', 'dog', 'hourse', 'ok']"
      ]
     },
     "execution_count": 102,
     "metadata": {},
     "output_type": "execute_result"
    }
   ],
   "source": [
    "sort_words_v1(\"hourse,dog,cat,asd,ok\")"
   ]
  },
  {
   "cell_type": "code",
   "execution_count": 98,
   "id": "79d8ea84-f7f4-4a0e-a681-98520af75295",
   "metadata": {},
   "outputs": [
    {
     "data": {
      "text/plain": [
       "['asd', 'cat', 'dog', 'hourse', 'ok']"
      ]
     },
     "execution_count": 98,
     "metadata": {},
     "output_type": "execute_result"
    }
   ],
   "source": [
    "sort_words_v2(\"hourse,dog,cat,asd,ok\")"
   ]
  },
  {
   "cell_type": "code",
   "execution_count": 106,
   "id": "790a1f7c-ba40-4a9e-8de6-2f42a49e6846",
   "metadata": {},
   "outputs": [
    {
     "data": {
      "text/plain": [
       "'asd,cat,dog,hourse,ok'"
      ]
     },
     "execution_count": 106,
     "metadata": {},
     "output_type": "execute_result"
    }
   ],
   "source": [
    "sort_words_v3(\"hourse,dog,cat,asd,ok\")"
   ]
  },
  {
   "cell_type": "code",
   "execution_count": null,
   "id": "5da593a2-b11c-4e78-b64c-18af160fd8c4",
   "metadata": {},
   "outputs": [],
   "source": [
    "Viet ham get_most_frequent_elements(x), nhap vao 1 list cac so va in ra phan tu cung so luong xuat hien theo format sau:\n",
    "    Element: 1, Occurences: 4"
   ]
  },
  {
   "cell_type": "code",
   "execution_count": null,
   "id": "2b7c55df-0762-4077-bfb3-e9deb9893e3e",
   "metadata": {},
   "outputs": [],
   "source": [
    "def get_most_frequent_elemnts(x):\n",
    "    for i in x:\n",
    "        e = 0\n",
    "        for j in x:\n",
    "            if i == j:\n",
    "                e += 1\n",
    "    print(\"Element: {}, Occurences: {}\".format(i, n))"
   ]
  }
 ],
 "metadata": {
  "kernelspec": {
   "display_name": "Python [conda env:base] *",
   "language": "python",
   "name": "conda-base-py"
  },
  "language_info": {
   "codemirror_mode": {
    "name": "ipython",
    "version": 3
   },
   "file_extension": ".py",
   "mimetype": "text/x-python",
   "name": "python",
   "nbconvert_exporter": "python",
   "pygments_lexer": "ipython3",
   "version": "3.12.7"
  }
 },
 "nbformat": 4,
 "nbformat_minor": 5
}
