{
 "cells": [
  {
   "cell_type": "code",
   "execution_count": null,
   "id": "aaa45687-f5b6-4b9d-85a5-6685dceab4d5",
   "metadata": {},
   "outputs": [],
   "source": [
    "Q1\n",
    "Viết hàm filter_numbers(x) nhập vào 1 list x và trả về 1 list gồm các phần tử là số (int, float) của x"
   ]
  },
  {
   "cell_type": "code",
   "execution_count": null,
   "id": "59e2dbc4-e410-4d65-b4fd-34c0d84c98ac",
   "metadata": {},
   "outputs": [],
   "source": [
    "fillter_numbers([1,2,'A', True, -1,-2.4,[1,2], False])"
   ]
  },
  {
   "cell_type": "code",
   "execution_count": 13,
   "id": "5328275e-1948-44ce-bd7e-06f2551f47a0",
   "metadata": {},
   "outputs": [],
   "source": [
    "def fillter_numbers(x):\n",
    "     #Co may cac de tra list\n",
    "    #C1: use list Conprehensions\n",
    "    # Check\n",
    "    if type(x) != list:\n",
    "        raise Exception(\"Please input a list\")\n",
    "    else:\n",
    "        return [i for i in x if type(i) in [int, float]]"
   ]
  },
  {
   "cell_type": "code",
   "execution_count": 17,
   "id": "55e5a4cf-b795-428c-8f3f-c8cd081a6dbb",
   "metadata": {},
   "outputs": [
    {
     "data": {
      "text/plain": [
       "[1, 2, -1, -2.4]"
      ]
     },
     "execution_count": 17,
     "metadata": {},
     "output_type": "execute_result"
    }
   ],
   "source": [
    "fillter_numbers([1,2,'A', True, -1,-2.4,[1,2], False])"
   ]
  },
  {
   "cell_type": "code",
   "execution_count": null,
   "id": "e60ccf4f-5d8b-45c7-ad8e-f5e6fabe90e6",
   "metadata": {},
   "outputs": [],
   "source": [
    "Viết hàm count_element_types(x), nhập vào 1 list trả về số 1 tuple có 4 phần tử\n",
    "1. Phần tử đầu: Số các phần tử là số dương trong x\n",
    "2. Phần tử đầu: Số các phần tử là số âm trong x\n",
    "3. Phần tử đầu: Số các phần tử là số 0 trong x\n",
    "4. Phần tử đầu: Số các phần tử không là số trong x"
   ]
  },
  {
   "cell_type": "code",
   "execution_count": null,
   "id": "0c2d7182-328e-46b8-96de-8e359ee5c756",
   "metadata": {},
   "outputs": [],
   "source": [
    "def count_element_types(x):\n",
    "    "
   ]
  }
 ],
 "metadata": {
  "kernelspec": {
   "display_name": "Python [conda env:base] *",
   "language": "python",
   "name": "conda-base-py"
  },
  "language_info": {
   "codemirror_mode": {
    "name": "ipython",
    "version": 3
   },
   "file_extension": ".py",
   "mimetype": "text/x-python",
   "name": "python",
   "nbconvert_exporter": "python",
   "pygments_lexer": "ipython3",
   "version": "3.12.7"
  }
 },
 "nbformat": 4,
 "nbformat_minor": 5
}
