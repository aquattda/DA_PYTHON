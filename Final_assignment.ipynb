{
 "cells": [
  {
   "cell_type": "code",
   "execution_count": 1,
   "id": "aaa45687-f5b6-4b9d-85a5-6685dceab4d5",
   "metadata": {},
   "outputs": [
    {
     "ename": "SyntaxError",
     "evalue": "invalid syntax (1274974950.py, line 2)",
     "output_type": "error",
     "traceback": [
      "\u001b[1;36m  Cell \u001b[1;32mIn[1], line 2\u001b[1;36m\u001b[0m\n\u001b[1;33m    Viết hàm filter_numbers(x) nhập vào 1 list x và trả về 1 list gồm các phần tử là số (int, float) của x\u001b[0m\n\u001b[1;37m         ^\u001b[0m\n\u001b[1;31mSyntaxError\u001b[0m\u001b[1;31m:\u001b[0m invalid syntax\n"
     ]
    }
   ],
   "source": [
    "Q1\n",
    "Viết hàm filter_numbers(x) nhập vào 1 list x và trả về 1 list gồm các phần tử là số (int, float) của x"
   ]
  },
  {
   "cell_type": "code",
   "execution_count": null,
   "id": "59e2dbc4-e410-4d65-b4fd-34c0d84c98ac",
   "metadata": {},
   "outputs": [],
   "source": [
    "fillter_numbers([1,2,'A', True, -1,-2.4,[1,2], False])"
   ]
  },
  {
   "cell_type": "code",
   "execution_count": 4,
   "id": "5328275e-1948-44ce-bd7e-06f2551f47a0",
   "metadata": {},
   "outputs": [],
   "source": [
    "def fillter_numbers(x):\n",
    "     #Co may cac de tra list\n",
    "    #C1: use list Conprehensions\n",
    "    # Check\n",
    "    if type(x) != list:\n",
    "        raise Exception(\"Please input a list\")\n",
    "    else:\n",
    "        return [i for i in x if type(i) in [int, float]]"
   ]
  },
  {
   "cell_type": "code",
   "execution_count": 6,
   "id": "55e5a4cf-b795-428c-8f3f-c8cd081a6dbb",
   "metadata": {},
   "outputs": [
    {
     "data": {
      "text/plain": [
       "[1, 2, -1, -2.4]"
      ]
     },
     "execution_count": 6,
     "metadata": {},
     "output_type": "execute_result"
    }
   ],
   "source": [
    "fillter_numbers([1,2,'A', True, -1,-2.4,[1,2], False])"
   ]
  },
  {
   "cell_type": "code",
   "execution_count": 8,
   "id": "e60ccf4f-5d8b-45c7-ad8e-f5e6fabe90e6",
   "metadata": {},
   "outputs": [
    {
     "ename": "SyntaxError",
     "evalue": "invalid syntax (1582461155.py, line 1)",
     "output_type": "error",
     "traceback": [
      "\u001b[1;36m  Cell \u001b[1;32mIn[8], line 1\u001b[1;36m\u001b[0m\n\u001b[1;33m    Viết hàm count_element_types(x), nhập vào 1 list trả về số 1 tuple có 4 phần tử\u001b[0m\n\u001b[1;37m         ^\u001b[0m\n\u001b[1;31mSyntaxError\u001b[0m\u001b[1;31m:\u001b[0m invalid syntax\n"
     ]
    }
   ],
   "source": [
    "Viết hàm count_element_types(x), nhập vào 1 list trả về số 1 tuple có 4 phần tử\n",
    "1. Phần tử đầu: Số các phần tử là số dương trong x\n",
    "2. Phần tử đầu: Số các phần tử là số âm trong x\n",
    "3. Phần tử đầu: Số các phần tử là số 0 trong x\n",
    "4. Phần tử đầu: Số các phần tử không là số trong x"
   ]
  },
  {
   "cell_type": "code",
   "execution_count": 10,
   "id": "0c2d7182-328e-46b8-96de-8e359ee5c756",
   "metadata": {},
   "outputs": [],
   "source": [
    "def count_element_types(x):\n",
    "    a= b = c = d = 0\n",
    "    for i in x:\n",
    "        if type(i) not in [int, float]:\n",
    "            d += 1\n",
    "        elif i > 0:\n",
    "            a +=1\n",
    "        elif i < 0: \n",
    "            b += 1\n",
    "        elif i == 0:\n",
    "            c +=1\n",
    "    return (a,b,c,d)\n",
    "\n",
    "        "
   ]
  },
  {
   "cell_type": "code",
   "execution_count": 12,
   "id": "6aa66b05-6d10-41f6-8478-e97c7909e713",
   "metadata": {},
   "outputs": [
    {
     "data": {
      "text/plain": [
       "(3, 2, 2, 4)"
      ]
     },
     "execution_count": 12,
     "metadata": {},
     "output_type": "execute_result"
    }
   ],
   "source": [
    "count_element_types([1,2,'A', True, -1,-2.5,7,[1,2],False, 0,0])"
   ]
  },
  {
   "cell_type": "code",
   "execution_count": null,
   "id": "02d11445-8853-4ba9-896c-2891f180156b",
   "metadata": {},
   "outputs": [],
   "source": [
    "Viet ham count_numbers_div_by_9(n) nhap vao mot so nguyen n tra ve so chan chia het cho 9 trong so n so nguyen duong dau tien tu 1 den n"
   ]
  },
  {
   "cell_type": "code",
   "execution_count": 38,
   "id": "d52b961b-5cc7-480c-bbc2-1197ef3dde50",
   "metadata": {},
   "outputs": [],
   "source": [
    "def count_numbers_div_by_9(n):\n",
    "    count = 0\n",
    "    for i in range(1,n + 1):\n",
    "       #if sum(map(int, str(i))) % 9 == 0 and i % 2 ==0: # 1,2,3 => ['1', '2', '3'] => 1 + 2 + 3\n",
    "        if i % 2 == 0 and i % 9 == 0:\n",
    "           count += 1\n",
    "    return count"
   ]
  },
  {
   "cell_type": "code",
   "execution_count": 40,
   "id": "71796a0b-ef92-4ab6-adaa-395112ce07ed",
   "metadata": {},
   "outputs": [
    {
     "data": {
      "text/plain": [
       "5"
      ]
     },
     "execution_count": 40,
     "metadata": {},
     "output_type": "execute_result"
    }
   ],
   "source": [
    "count_numbers_div_by_9(100)"
   ]
  },
  {
   "cell_type": "code",
   "execution_count": null,
   "id": "d45b5a76-423b-4944-9039-726f550a73fb",
   "metadata": {},
   "outputs": [],
   "source": [
    "Viet ham sumarize_data(x) nhap vao 1 list x gồm các số (int, float) trả về một dictionary có 3 keys min, max, avg với values tương ung"
   ]
  },
  {
   "cell_type": "code",
   "execution_count": 111,
   "id": "5a052d43-a235-4de7-9461-df491e28a68f",
   "metadata": {},
   "outputs": [],
   "source": [
    "import numpy as np\n",
    "def sumarize_data(x):\n",
    "    if type(x) != list:\n",
    "        raise Exception(\"Please input a list\")\n",
    "    for i in x:\n",
    "        if type(i) not in [float, int]:\n",
    "            raise Exception(\"Please element is number\")\n",
    "    return {'min': min(x), 'max': max(x), 'avg': np.mean(x)}        "
   ]
  },
  {
   "cell_type": "code",
   "execution_count": 113,
   "id": "61627006-6db8-48ab-9385-89950c69cefe",
   "metadata": {},
   "outputs": [
    {
     "data": {
      "text/plain": [
       "{'min': -10, 'max': 15, 'avg': 4.571428571428571}"
      ]
     },
     "execution_count": 113,
     "metadata": {},
     "output_type": "execute_result"
    }
   ],
   "source": [
    "sumarize_data([1,-10,2,7,8,9,15])"
   ]
  },
  {
   "cell_type": "code",
   "execution_count": null,
   "id": "961ca5ce-3988-4f85-883e-b4234e6f9c2b",
   "metadata": {},
   "outputs": [],
   "source": [
    "Viet ham count_common(x,y) nhap vao2 lists x va y tra ve so luong phan tu chung giua 2 list nhung ptu trung chi dem 1 lan"
   ]
  },
  {
   "cell_type": "code",
   "execution_count": null,
   "id": "e826e131-36d2-4d60-8006-df8593ae9f22",
   "metadata": {},
   "outputs": [],
   "source": [
    "def count_common(x,y):\n",
    "    cm = []\n",
    "    for i in x:\n",
    "        if i in y and i not in cm:\n",
    "            cm.append(i)\n",
    "    return len(cm)\n",
    "\n",
    "'''\n",
    "- Neu dung cach dem bth thi khong kt duoc khi nao da duyet ptu trung do chua\n",
    "- Neu ptu cua A1 co trong A2 va A1 khong nam trong pt lap lai => them so pt vao lap lai\n",
    "- Sau khi them xong do de yeu cau dem ma cm la list nen can dung ham len de dem so luong ptu co trong list do\n",
    "'''"
   ]
  },
  {
   "cell_type": "code",
   "execution_count": null,
   "id": "cce661cd-f733-4aa0-bd45-a3420724afb9",
   "metadata": {},
   "outputs": [],
   "source": [
    "Viet ham count_vowels_consonants(s). Nhap vao 1 string s co ky tu nam trong 26 chu cai tieng anh, tra ve 1 tuple gom 2 phan tu:\n",
    "- Phan tu dau la so luong la cac nguyen am (u,e,o,a,i)\n",
    "- Phan tu thu 2 la so luong ky tu phu am"
   ]
  },
  {
   "cell_type": "code",
   "execution_count": 3,
   "id": "ad817dbf-4b78-4456-b174-7e2df3b73c80",
   "metadata": {},
   "outputs": [],
   "source": [
    "def count_vowels_consonants(s):\n",
    "    vowels = {'u', 'e', 'o', 'a', 'i'}\n",
    "    s = s.lower()\n",
    "    n_a = p_a = 0\n",
    "    for i in s:\n",
    "        if i.isalpha(): #Check chu cai\n",
    "            if i in vowels:\n",
    "                n_a += 1\n",
    "            else:\n",
    "                p_a += 1\n",
    "    return (n_a, p_a)\n",
    "\n",
    "    "
   ]
  },
  {
   "cell_type": "code",
   "execution_count": 5,
   "id": "69c3ee17-c458-48f5-a361-6646faf298e1",
   "metadata": {},
   "outputs": [
    {
     "data": {
      "text/plain": [
       "(5, 5)"
      ]
     },
     "execution_count": 5,
     "metadata": {},
     "output_type": "execute_result"
    }
   ],
   "source": [
    "count_vowels_consonants(\"Hello Annie\")"
   ]
  },
  {
   "cell_type": "code",
   "execution_count": null,
   "id": "b667ccd9-0b80-4fa0-aa32-cd246042c38a",
   "metadata": {},
   "outputs": [],
   "source": [
    "Viet ham sort_words(s) nhap vao 1 string gom cac tu cach nhanh boi dau comma ',' \n",
    "tra ve cac ptu cach nhanh boi dau comma nhung cac tu da duoc sawp xep theo A-Z luu ys string tra ve o dang lowercase"
   ]
  },
  {
   "cell_type": "code",
   "execution_count": 104,
   "id": "1f915551-797a-49a0-801e-110291645cf2",
   "metadata": {},
   "outputs": [],
   "source": [
    "# C1: CREATE 1 ARRAY AND USE METHOD 'APPEND'\n",
    "def sort_words_v1(s):\n",
    "    k = []\n",
    "    for i in s.split(','):\n",
    "        k.append(i.lower())\n",
    "    return sorted(k)\n",
    "\n",
    "def sort_words_v2(s):\n",
    "    k = [ i.lower() for i in s.split(\",\")]\n",
    "    k.sort()\n",
    "    return k\n",
    "\n",
    "def sort_words_v3(s):\n",
    "    v = [i.lower() for i in s.split(',')]\n",
    "    return ','.join(sorted(v))"
   ]
  },
  {
   "cell_type": "code",
   "execution_count": 102,
   "id": "7f8dc17c-bf39-4dfe-8739-82a4738cce73",
   "metadata": {},
   "outputs": [
    {
     "data": {
      "text/plain": [
       "['asd', 'cat', 'dog', 'hourse', 'ok']"
      ]
     },
     "execution_count": 102,
     "metadata": {},
     "output_type": "execute_result"
    }
   ],
   "source": [
    "sort_words_v1(\"hourse,dog,cat,asd,ok\")"
   ]
  },
  {
   "cell_type": "code",
   "execution_count": 98,
   "id": "79d8ea84-f7f4-4a0e-a681-98520af75295",
   "metadata": {},
   "outputs": [
    {
     "data": {
      "text/plain": [
       "['asd', 'cat', 'dog', 'hourse', 'ok']"
      ]
     },
     "execution_count": 98,
     "metadata": {},
     "output_type": "execute_result"
    }
   ],
   "source": [
    "sort_words_v2(\"hourse,dog,cat,asd,ok\")"
   ]
  },
  {
   "cell_type": "code",
   "execution_count": 106,
   "id": "790a1f7c-ba40-4a9e-8de6-2f42a49e6846",
   "metadata": {},
   "outputs": [
    {
     "data": {
      "text/plain": [
       "'asd,cat,dog,hourse,ok'"
      ]
     },
     "execution_count": 106,
     "metadata": {},
     "output_type": "execute_result"
    }
   ],
   "source": [
    "sort_words_v3(\"hourse,dog,cat,asd,ok\")"
   ]
  },
  {
   "cell_type": "code",
   "execution_count": null,
   "id": "5da593a2-b11c-4e78-b64c-18af160fd8c4",
   "metadata": {},
   "outputs": [],
   "source": [
    "Viet ham get_most_frequent_elements(x), nhap vao 1 list cac so va in ra phan tu cung so luong xuat hien theo format sau:\n",
    "    Element: 1, Occurences: 4"
   ]
  },
  {
   "cell_type": "code",
   "execution_count": 122,
   "id": "2b7c55df-0762-4077-bfb3-e9deb9893e3e",
   "metadata": {},
   "outputs": [],
   "source": [
    "def get_most_frequent_elemnts(x):\n",
    "    for i in set(x):\n",
    "        e = 0\n",
    "        for j in x:\n",
    "            if i == j:\n",
    "                e += 1\n",
    "        print(\"Element: {}, Occurences: {}\".format(i, e))"
   ]
  },
  {
   "cell_type": "code",
   "execution_count": 124,
   "id": "718ea81f-47a5-41c7-9416-fc8b9ed965c7",
   "metadata": {},
   "outputs": [
    {
     "name": "stdout",
     "output_type": "stream",
     "text": [
      "Element: 1, Occurences: 4\n",
      "Element: 2, Occurences: 4\n",
      "Element: 3, Occurences: 4\n",
      "Element: 4, Occurences: 2\n",
      "Element: 5, Occurences: 1\n",
      "Element: 6, Occurences: 1\n",
      "Element: 23, Occurences: 1\n"
     ]
    }
   ],
   "source": [
    "x = [1,1,1,1,2,2,2,2,3,4,5,6,4,23,3,3,3]\n",
    "get_most_frequent_elemnts(x)"
   ]
  },
  {
   "cell_type": "code",
   "execution_count": 126,
   "id": "aff42bea-2021-4761-aeee-50eea312b5e1",
   "metadata": {},
   "outputs": [
    {
     "ename": "SyntaxError",
     "evalue": "invalid syntax (3101165540.py, line 1)",
     "output_type": "error",
     "traceback": [
      "\u001b[1;36m  Cell \u001b[1;32mIn[126], line 1\u001b[1;36m\u001b[0m\n\u001b[1;33m    Viet ham get_quarter(x) nhap vao mot so nguyen tu tu 1 den 12 the hien so thu tu cua thang trong nam, tra ve so nguyen la quarter tuong ung tu 1 den 4\u001b[0m\n\u001b[1;37m         ^\u001b[0m\n\u001b[1;31mSyntaxError\u001b[0m\u001b[1;31m:\u001b[0m invalid syntax\n"
     ]
    }
   ],
   "source": [
    "Viet ham get_quarter(x) nhap vao mot so nguyen tu tu 1 den 12 the hien so thu tu cua thang trong nam, \n",
    "tra ve so nguyen la quarter tuong ung tu 1 den 4\n",
    "VD: thang 1,2,3 ung voi quarter 1, 4,5,6 ung vs quarter 2..."
   ]
  },
  {
   "cell_type": "code",
   "execution_count": 128,
   "id": "de88d81e-e981-4595-854d-46107483006f",
   "metadata": {},
   "outputs": [],
   "source": [
    "def get_quarter(x):\n",
    "    q = ''\n",
    "    if x <= 3:\n",
    "        q = 'Quarter 1'\n",
    "    elif x <= 6:\n",
    "        q = 'Quarter 2'\n",
    "    elif x <= 9:\n",
    "        q = 'Quarter 3'\n",
    "    elif x <= 12:\n",
    "        q = 'Quarter 4'\n",
    "    return q"
   ]
  },
  {
   "cell_type": "code",
   "execution_count": 130,
   "id": "c0258f23-118e-418a-aa00-2ed43d61dd48",
   "metadata": {},
   "outputs": [
    {
     "name": "stdout",
     "output_type": "stream",
     "text": [
      "Quarter 1 Quarter 1 Quarter 1 Quarter 2 Quarter 2 Quarter 2 Quarter 3 Quarter 3 Quarter 3 Quarter 4 Quarter 4 Quarter 4 "
     ]
    }
   ],
   "source": [
    "for x in range(1,13):\n",
    "    print(get_quarter(x), end= \" \")"
   ]
  },
  {
   "cell_type": "code",
   "execution_count": null,
   "id": "54fae45e-102a-4fa0-94cc-69c9fd07c3df",
   "metadata": {},
   "outputs": [],
   "source": [
    "FINALLLLLLLLLLLLLLLLLLLLLLLLLLLLLL"
   ]
  },
  {
   "cell_type": "code",
   "execution_count": null,
   "id": "d329c871-c3a7-4d52-ac48-83c5e363983b",
   "metadata": {},
   "outputs": [],
   "source": [
    "Viet ham filter_numbers(x) nhap vao 1 list x va tra ve 1 lít gom cac  phan tu la so int float cua x"
   ]
  },
  {
   "cell_type": "code",
   "execution_count": null,
   "id": "aaeaab70-107d-426c-9b2d-13e1419f7504",
   "metadata": {},
   "outputs": [],
   "source": [
    "3. Data Processing"
   ]
  },
  {
   "cell_type": "code",
   "execution_count": 14,
   "id": "df3d7625-32a2-44d0-832c-e8af68d7be8c",
   "metadata": {},
   "outputs": [],
   "source": [
    "import pandas as pd"
   ]
  },
  {
   "cell_type": "code",
   "execution_count": 16,
   "id": "a9d9b4d3-9387-4f5c-ab81-b3e2ac744aee",
   "metadata": {},
   "outputs": [],
   "source": [
    "pd.set_option('display.max_columns', None)"
   ]
  },
  {
   "cell_type": "code",
   "execution_count": 20,
   "id": "1f9e0188-56aa-4934-9a5a-62d2e1bbaff8",
   "metadata": {},
   "outputs": [
    {
     "data": {
      "text/html": [
       "<div>\n",
       "<style scoped>\n",
       "    .dataframe tbody tr th:only-of-type {\n",
       "        vertical-align: middle;\n",
       "    }\n",
       "\n",
       "    .dataframe tbody tr th {\n",
       "        vertical-align: top;\n",
       "    }\n",
       "\n",
       "    .dataframe thead th {\n",
       "        text-align: right;\n",
       "    }\n",
       "</style>\n",
       "<table border=\"1\" class=\"dataframe\">\n",
       "  <thead>\n",
       "    <tr style=\"text-align: right;\">\n",
       "      <th></th>\n",
       "      <th>hotel</th>\n",
       "      <th>is_canceled</th>\n",
       "      <th>lead_time</th>\n",
       "      <th>arrival_date_year</th>\n",
       "      <th>arrival_date_month</th>\n",
       "      <th>arrival_date_week_number</th>\n",
       "      <th>arrival_date_of_month</th>\n",
       "      <th>stays_in_weekend_nights</th>\n",
       "      <th>stays_in_week_nights</th>\n",
       "      <th>adults</th>\n",
       "      <th>children</th>\n",
       "      <th>babies</th>\n",
       "      <th>meal</th>\n",
       "      <th>country</th>\n",
       "      <th>market_segment</th>\n",
       "      <th>distribution_channel</th>\n",
       "      <th>is_repeated_guest</th>\n",
       "      <th>previous_cancellations</th>\n",
       "      <th>previous_bookings_not_canceled</th>\n",
       "      <th>reserved_room_type</th>\n",
       "      <th>assigned_room_type</th>\n",
       "      <th>booking_changes</th>\n",
       "      <th>deposit_type</th>\n",
       "      <th>agent</th>\n",
       "      <th>company</th>\n",
       "      <th>days_in_waiting_list</th>\n",
       "      <th>customer_type</th>\n",
       "      <th>adr</th>\n",
       "      <th>required_car_parking_spaces</th>\n",
       "      <th>total_of_special_requests</th>\n",
       "      <th>reservation_status</th>\n",
       "      <th>reservation_status_date</th>\n",
       "    </tr>\n",
       "  </thead>\n",
       "  <tbody>\n",
       "    <tr>\n",
       "      <th>0</th>\n",
       "      <td>City Hotel</td>\n",
       "      <td>1</td>\n",
       "      <td>134</td>\n",
       "      <td>2017</td>\n",
       "      <td>July</td>\n",
       "      <td>32</td>\n",
       "      <td>20</td>\n",
       "      <td>2</td>\n",
       "      <td>9</td>\n",
       "      <td>2</td>\n",
       "      <td>1</td>\n",
       "      <td>0</td>\n",
       "      <td>BB</td>\n",
       "      <td>Other</td>\n",
       "      <td>Offline TA/TO</td>\n",
       "      <td>GDS</td>\n",
       "      <td>0</td>\n",
       "      <td>0</td>\n",
       "      <td>0</td>\n",
       "      <td>F</td>\n",
       "      <td>F</td>\n",
       "      <td>1</td>\n",
       "      <td>No Deposit</td>\n",
       "      <td>397</td>\n",
       "      <td>846.0</td>\n",
       "      <td>10</td>\n",
       "      <td>Transient-Party</td>\n",
       "      <td>149.46</td>\n",
       "      <td>1</td>\n",
       "      <td>0</td>\n",
       "      <td>Canceled</td>\n",
       "      <td>2015-09-10</td>\n",
       "    </tr>\n",
       "    <tr>\n",
       "      <th>1</th>\n",
       "      <td>City Hotel</td>\n",
       "      <td>1</td>\n",
       "      <td>53</td>\n",
       "      <td>2017</td>\n",
       "      <td>September</td>\n",
       "      <td>31</td>\n",
       "      <td>23</td>\n",
       "      <td>0</td>\n",
       "      <td>2</td>\n",
       "      <td>4</td>\n",
       "      <td>1</td>\n",
       "      <td>0</td>\n",
       "      <td>Undefined</td>\n",
       "      <td>ITA</td>\n",
       "      <td>Corporate</td>\n",
       "      <td>Direct</td>\n",
       "      <td>1</td>\n",
       "      <td>1</td>\n",
       "      <td>2</td>\n",
       "      <td>F</td>\n",
       "      <td>G</td>\n",
       "      <td>0</td>\n",
       "      <td>No Deposit</td>\n",
       "      <td>62</td>\n",
       "      <td>703.0</td>\n",
       "      <td>12</td>\n",
       "      <td>Transient-Party</td>\n",
       "      <td>149.46</td>\n",
       "      <td>2</td>\n",
       "      <td>2</td>\n",
       "      <td>Check-Out</td>\n",
       "      <td>2016-07-02</td>\n",
       "    </tr>\n",
       "    <tr>\n",
       "      <th>2</th>\n",
       "      <td>Resort Hotel</td>\n",
       "      <td>0</td>\n",
       "      <td>301</td>\n",
       "      <td>2016</td>\n",
       "      <td>March</td>\n",
       "      <td>22</td>\n",
       "      <td>16</td>\n",
       "      <td>0</td>\n",
       "      <td>2</td>\n",
       "      <td>4</td>\n",
       "      <td>0</td>\n",
       "      <td>1</td>\n",
       "      <td>HB</td>\n",
       "      <td>Other</td>\n",
       "      <td>Online TA</td>\n",
       "      <td>Corporate</td>\n",
       "      <td>0</td>\n",
       "      <td>0</td>\n",
       "      <td>1</td>\n",
       "      <td>A</td>\n",
       "      <td>G</td>\n",
       "      <td>0</td>\n",
       "      <td>No Deposit</td>\n",
       "      <td>306</td>\n",
       "      <td>984.0</td>\n",
       "      <td>5</td>\n",
       "      <td>Transient-Party</td>\n",
       "      <td>149.46</td>\n",
       "      <td>1</td>\n",
       "      <td>0</td>\n",
       "      <td>No-Show</td>\n",
       "      <td>2017-04-05</td>\n",
       "    </tr>\n",
       "    <tr>\n",
       "      <th>3</th>\n",
       "      <td>City Hotel</td>\n",
       "      <td>1</td>\n",
       "      <td>143</td>\n",
       "      <td>2015</td>\n",
       "      <td>July</td>\n",
       "      <td>11</td>\n",
       "      <td>17</td>\n",
       "      <td>0</td>\n",
       "      <td>1</td>\n",
       "      <td>1</td>\n",
       "      <td>2</td>\n",
       "      <td>1</td>\n",
       "      <td>FB</td>\n",
       "      <td>USA</td>\n",
       "      <td>Corporate</td>\n",
       "      <td>GDS</td>\n",
       "      <td>1</td>\n",
       "      <td>0</td>\n",
       "      <td>2</td>\n",
       "      <td>G</td>\n",
       "      <td>G</td>\n",
       "      <td>3</td>\n",
       "      <td>Non Refund</td>\n",
       "      <td>97</td>\n",
       "      <td>53.0</td>\n",
       "      <td>11</td>\n",
       "      <td>Contract</td>\n",
       "      <td>149.46</td>\n",
       "      <td>0</td>\n",
       "      <td>5</td>\n",
       "      <td>Canceled</td>\n",
       "      <td>2017-02-20</td>\n",
       "    </tr>\n",
       "    <tr>\n",
       "      <th>4</th>\n",
       "      <td>City Hotel</td>\n",
       "      <td>0</td>\n",
       "      <td>52</td>\n",
       "      <td>2017</td>\n",
       "      <td>February</td>\n",
       "      <td>45</td>\n",
       "      <td>4</td>\n",
       "      <td>3</td>\n",
       "      <td>2</td>\n",
       "      <td>3</td>\n",
       "      <td>1</td>\n",
       "      <td>0</td>\n",
       "      <td>HB</td>\n",
       "      <td>Other</td>\n",
       "      <td>Direct</td>\n",
       "      <td>TA/TO</td>\n",
       "      <td>1</td>\n",
       "      <td>0</td>\n",
       "      <td>0</td>\n",
       "      <td>C</td>\n",
       "      <td>A</td>\n",
       "      <td>3</td>\n",
       "      <td>Refundable</td>\n",
       "      <td>483</td>\n",
       "      <td>561.0</td>\n",
       "      <td>6</td>\n",
       "      <td>Contract</td>\n",
       "      <td>149.46</td>\n",
       "      <td>2</td>\n",
       "      <td>4</td>\n",
       "      <td>Canceled</td>\n",
       "      <td>2016-08-01</td>\n",
       "    </tr>\n",
       "  </tbody>\n",
       "</table>\n",
       "</div>"
      ],
      "text/plain": [
       "          hotel  is_canceled  lead_time  arrival_date_year arrival_date_month  \\\n",
       "0    City Hotel            1        134               2017               July   \n",
       "1    City Hotel            1         53               2017          September   \n",
       "2  Resort Hotel            0        301               2016              March   \n",
       "3    City Hotel            1        143               2015               July   \n",
       "4    City Hotel            0         52               2017           February   \n",
       "\n",
       "   arrival_date_week_number  arrival_date_of_month  stays_in_weekend_nights  \\\n",
       "0                        32                     20                        2   \n",
       "1                        31                     23                        0   \n",
       "2                        22                     16                        0   \n",
       "3                        11                     17                        0   \n",
       "4                        45                      4                        3   \n",
       "\n",
       "   stays_in_week_nights  adults  children  babies       meal country  \\\n",
       "0                     9       2         1       0         BB   Other   \n",
       "1                     2       4         1       0  Undefined     ITA   \n",
       "2                     2       4         0       1         HB   Other   \n",
       "3                     1       1         2       1         FB     USA   \n",
       "4                     2       3         1       0         HB   Other   \n",
       "\n",
       "  market_segment distribution_channel  is_repeated_guest  \\\n",
       "0  Offline TA/TO                  GDS                  0   \n",
       "1      Corporate               Direct                  1   \n",
       "2      Online TA            Corporate                  0   \n",
       "3      Corporate                  GDS                  1   \n",
       "4         Direct                TA/TO                  1   \n",
       "\n",
       "   previous_cancellations  previous_bookings_not_canceled reserved_room_type  \\\n",
       "0                       0                               0                  F   \n",
       "1                       1                               2                  F   \n",
       "2                       0                               1                  A   \n",
       "3                       0                               2                  G   \n",
       "4                       0                               0                  C   \n",
       "\n",
       "  assigned_room_type  booking_changes deposit_type  agent  company  \\\n",
       "0                  F                1   No Deposit    397    846.0   \n",
       "1                  G                0   No Deposit     62    703.0   \n",
       "2                  G                0   No Deposit    306    984.0   \n",
       "3                  G                3   Non Refund     97     53.0   \n",
       "4                  A                3   Refundable    483    561.0   \n",
       "\n",
       "   days_in_waiting_list    customer_type     adr  required_car_parking_spaces  \\\n",
       "0                    10  Transient-Party  149.46                            1   \n",
       "1                    12  Transient-Party  149.46                            2   \n",
       "2                     5  Transient-Party  149.46                            1   \n",
       "3                    11         Contract  149.46                            0   \n",
       "4                     6         Contract  149.46                            2   \n",
       "\n",
       "   total_of_special_requests reservation_status reservation_status_date  \n",
       "0                          0           Canceled              2015-09-10  \n",
       "1                          2          Check-Out              2016-07-02  \n",
       "2                          0            No-Show              2017-04-05  \n",
       "3                          5           Canceled              2017-02-20  \n",
       "4                          4           Canceled              2016-08-01  "
      ]
     },
     "execution_count": 20,
     "metadata": {},
     "output_type": "execute_result"
    }
   ],
   "source": [
    "hotel = pd.read_csv('Final/hotel_bookings.csv')\n",
    "hotel.head()"
   ]
  },
  {
   "cell_type": "markdown",
   "id": "bb84096e-0831-4649-8d13-1a7a67a76825",
   "metadata": {},
   "source": [
    "# Q1\n",
    "In ra shape cua tap data"
   ]
  },
  {
   "cell_type": "code",
   "execution_count": 25,
   "id": "e6fafd00-7e57-456d-8d6f-81d0bf2f15fc",
   "metadata": {},
   "outputs": [
    {
     "data": {
      "text/plain": [
       "(19390, 32)"
      ]
     },
     "execution_count": 25,
     "metadata": {},
     "output_type": "execute_result"
    }
   ],
   "source": [
    "hotel.shape"
   ]
  },
  {
   "cell_type": "code",
   "execution_count": null,
   "id": "2f3b5efb-edf4-44c3-9558-cbdab40a14f1",
   "metadata": {},
   "outputs": [],
   "source": [
    "Q2 \n",
    "In ra info of data\n",
    "Create list 'nul_col' save name columns have null"
   ]
  },
  {
   "cell_type": "code",
   "execution_count": 27,
   "id": "bcb9643a-69a4-4268-9f4e-85cee51eabb1",
   "metadata": {},
   "outputs": [
    {
     "name": "stdout",
     "output_type": "stream",
     "text": [
      "<class 'pandas.core.frame.DataFrame'>\n",
      "RangeIndex: 19390 entries, 0 to 19389\n",
      "Data columns (total 32 columns):\n",
      " #   Column                          Non-Null Count  Dtype  \n",
      "---  ------                          --------------  -----  \n",
      " 0   hotel                           19390 non-null  object \n",
      " 1   is_canceled                     19390 non-null  int64  \n",
      " 2   lead_time                       19390 non-null  int64  \n",
      " 3   arrival_date_year               19390 non-null  int64  \n",
      " 4   arrival_date_month              19390 non-null  object \n",
      " 5   arrival_date_week_number        19390 non-null  int64  \n",
      " 6   arrival_date_of_month           19390 non-null  int64  \n",
      " 7   stays_in_weekend_nights         19390 non-null  int64  \n",
      " 8   stays_in_week_nights            19390 non-null  int64  \n",
      " 9   adults                          19390 non-null  int64  \n",
      " 10  children                        19390 non-null  int64  \n",
      " 11  babies                          19390 non-null  int64  \n",
      " 12  meal                            19390 non-null  object \n",
      " 13  country                         19390 non-null  object \n",
      " 14  market_segment                  19390 non-null  object \n",
      " 15  distribution_channel            19390 non-null  object \n",
      " 16  is_repeated_guest               19390 non-null  int64  \n",
      " 17  previous_cancellations          19390 non-null  int64  \n",
      " 18  previous_bookings_not_canceled  19390 non-null  int64  \n",
      " 19  reserved_room_type              19390 non-null  object \n",
      " 20  assigned_room_type              19390 non-null  object \n",
      " 21  booking_changes                 19390 non-null  int64  \n",
      " 22  deposit_type                    19390 non-null  object \n",
      " 23  agent                           19390 non-null  int64  \n",
      " 24  company                         6797 non-null   float64\n",
      " 25  days_in_waiting_list            19390 non-null  int64  \n",
      " 26  customer_type                   19390 non-null  object \n",
      " 27  adr                             19390 non-null  float64\n",
      " 28  required_car_parking_spaces     19390 non-null  int64  \n",
      " 29  total_of_special_requests       19390 non-null  int64  \n",
      " 30  reservation_status              19390 non-null  object \n",
      " 31  reservation_status_date         19390 non-null  object \n",
      "dtypes: float64(2), int64(18), object(12)\n",
      "memory usage: 4.7+ MB\n"
     ]
    }
   ],
   "source": [
    "hotel.info()"
   ]
  },
  {
   "cell_type": "code",
   "execution_count": 35,
   "id": "e652dcda-73a2-4b81-b442-681bc786ca40",
   "metadata": {},
   "outputs": [
    {
     "data": {
      "text/plain": [
       "[0        846.0\n",
       " 1        703.0\n",
       " 2        984.0\n",
       " 3         53.0\n",
       " 4        561.0\n",
       "          ...  \n",
       " 19385      NaN\n",
       " 19386      NaN\n",
       " 19387      NaN\n",
       " 19388      NaN\n",
       " 19389      NaN\n",
       " Name: company, Length: 19390, dtype: float64]"
      ]
     },
     "execution_count": 35,
     "metadata": {},
     "output_type": "execute_result"
    }
   ],
   "source": [
    "null_col = [hotel['company']]\n",
    "null_col"
   ]
  },
  {
   "cell_type": "code",
   "execution_count": null,
   "id": "92348150-11ad-4b15-8e40-3302ca829eac",
   "metadata": {},
   "outputs": [],
   "source": [
    "Q3\n",
    "Thay vi tao 1 list, hay xay dung ham null_count() nhap vao ten tap data va tra ra dataframe chua ten cot va so luong null va so % "
   ]
  },
  {
   "cell_type": "code",
   "execution_count": null,
   "id": "fd78ff13-6c10-40b0-9297-cfa93f569a23",
   "metadata": {},
   "outputs": [],
   "source": [
    "def null_count(x):\n",
    "    for i in x:\n",
    "        if i is not null"
   ]
  }
 ],
 "metadata": {
  "kernelspec": {
   "display_name": "Python [conda env:base] *",
   "language": "python",
   "name": "conda-base-py"
  },
  "language_info": {
   "codemirror_mode": {
    "name": "ipython",
    "version": 3
   },
   "file_extension": ".py",
   "mimetype": "text/x-python",
   "name": "python",
   "nbconvert_exporter": "python",
   "pygments_lexer": "ipython3",
   "version": "3.12.7"
  }
 },
 "nbformat": 4,
 "nbformat_minor": 5
}
